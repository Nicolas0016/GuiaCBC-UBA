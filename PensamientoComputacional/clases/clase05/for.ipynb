{
 "cells": [
  {
   "cell_type": "markdown",
   "metadata": {},
   "source": [
    "# Bucle FOR\n",
    "\n",
    "La sintaxis del bucle `for` con la función `range()` en Python es la siguiente:\n",
    "\n",
    "```python\n",
    "for variable in range(inicio, fin, paso):\n",
    "    # Código a ejecutar en cada iteración\n",
    "```\n",
    "#### Donde: \n",
    "- `inicio` es el valor inicial del rango (inclusive). Este parámetro es opcional y por defecto es 0 si no se especifica.\n",
    "- `fin` es el valor final del rango (exclusivo). Es obligatorio y define el límite superior del rango.\n",
    "- `paso` es el incremento entre los valores del rango. Este parámetro es opcional y por defecto es 1 si no se especifica.\n",
    "\n",
    "### Ejemplo 1: Primer Índice\n",
    "En este ejemplo, usaremos la función `range()` con un solo argumento para iterar sobre un rango de valores desde cero hasta un número dado (exclusivo). Luego, imprimiremos cada valor en el rango.\n"
   ]
  },
  {
   "cell_type": "code",
   "execution_count": 2,
   "metadata": {},
   "outputs": [
    {
     "name": "stdout",
     "output_type": "stream",
     "text": [
      "0\n",
      "1\n",
      "2\n",
      "3\n",
      "4\n"
     ]
    }
   ],
   "source": [
    "# Ejemplo de bucle for con range (primer índice)\n",
    "for i in range(5):  # Itera desde 0 hasta 4 (5 exclusivo)\n",
    "    print(i)"
   ]
  },
  {
   "cell_type": "markdown",
   "metadata": {},
   "source": [
    "### Ejemplo 2: Tamaño del Rango\n",
    "En este ejemplo, utilizaremos la función `range()` con dos argumentos para definir el `inicio` y el `final` del rango. Luego, imprimiremos cada valor en ese rango."
   ]
  },
  {
   "cell_type": "code",
   "execution_count": 3,
   "metadata": {},
   "outputs": [
    {
     "name": "stdout",
     "output_type": "stream",
     "text": [
      "2\n",
      "3\n",
      "4\n",
      "5\n",
      "6\n"
     ]
    }
   ],
   "source": [
    "# Ejemplo de bucle for con range (tamaño)\n",
    "for i in range(2, 7):  # Itera desde 2 hasta 6 (7 exclusivo)\n",
    "    print(i)"
   ]
  },
  {
   "cell_type": "markdown",
   "metadata": {},
   "source": [
    "### Ejemplo 3: Pasos del Rango\n",
    "En este ejemplo, usaremos la función `range()` con tres argumentos para definir el `inicio`, el `final` y los `pasos` del rango. Luego, imprimiremos cada valor en ese rango."
   ]
  },
  {
   "cell_type": "code",
   "execution_count": 4,
   "metadata": {},
   "outputs": [
    {
     "name": "stdout",
     "output_type": "stream",
     "text": [
      "1\n",
      "3\n",
      "5\n",
      "7\n",
      "9\n"
     ]
    }
   ],
   "source": [
    "# Ejemplo de bucle for con range (pasos)\n",
    "for i in range(1, 10, 2):  # Itera desde 1 hasta 9 con pasos de 2\n",
    "    print(i)"
   ]
  }
 ],
 "metadata": {
  "kernelspec": {
   "display_name": "Python 3",
   "language": "python",
   "name": "python3"
  },
  "language_info": {
   "codemirror_mode": {
    "name": "ipython",
    "version": 3
   },
   "file_extension": ".py",
   "mimetype": "text/x-python",
   "name": "python",
   "nbconvert_exporter": "python",
   "pygments_lexer": "ipython3",
   "version": "3.12.0"
  }
 },
 "nbformat": 4,
 "nbformat_minor": 2
}
