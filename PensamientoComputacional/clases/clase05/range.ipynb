{
 "cells": [
  {
   "cell_type": "markdown",
   "metadata": {},
   "source": [
    "# La función range() en Python\n",
    "\n",
    "La función `range()` es una función integrada en Python que se utiliza para generar secuencias de números enteros. Se utiliza comúnmente en bucles `for` para iterar sobre una secuencia de números específica.\n",
    "\n",
    "## Sintaxis\n",
    "\n",
    "La sintaxis básica de la función `range()` es la siguiente:\n",
    "\n",
    "```python\n",
    "range(inicio, fin, paso)\n",
    "```\n",
    "#### Donde:\n",
    "\n",
    "- inicio: El valor inicial de la secuencia (incluido).\n",
    "- fin: El valor final de la secuencia (excluido).\n",
    "- paso: El tamaño del paso entre los números en la secuencia (opcional). Por defecto, es 1.\n",
    "### Ejemplos de uso\n",
    "### Ejemplo 1: Crear una lista ascendente de números:"
   ]
  },
  {
   "cell_type": "code",
   "execution_count": 1,
   "metadata": {},
   "outputs": [
    {
     "name": "stdout",
     "output_type": "stream",
     "text": [
      "[0, 1, 2, 3, 4]\n"
     ]
    }
   ],
   "source": [
    "numeros = list(range(5))\n",
    "print(numeros)"
   ]
  },
  {
   "cell_type": "markdown",
   "metadata": {},
   "source": [
    "En este ejemplo, `range(5)` genera una secuencia de números del 0 al 4, y luego la función `list()` convierte esa secuencia en una lista.\n",
    "### Ejemplo 2: Especificar el inicio y el fin de la secuencia:"
   ]
  },
  {
   "cell_type": "code",
   "execution_count": 2,
   "metadata": {},
   "outputs": [
    {
     "name": "stdout",
     "output_type": "stream",
     "text": [
      "[1, 2, 3, 4, 5]\n"
     ]
    }
   ],
   "source": [
    "numeros = list(range(1, 6))\n",
    "print(numeros)"
   ]
  },
  {
   "cell_type": "markdown",
   "metadata": {},
   "source": [
    "Aquí, `range(1, 6)` genera una secuencia de números del 1 al 5.\n",
    "\n",
    "### Ejemplo 3: Especificar un paso entre los números:"
   ]
  },
  {
   "cell_type": "code",
   "execution_count": 3,
   "metadata": {},
   "outputs": [
    {
     "name": "stdout",
     "output_type": "stream",
     "text": [
      "[0, 2, 4, 6, 8]\n"
     ]
    }
   ],
   "source": [
    "numeros = list(range(0, 10, 2))\n",
    "print(numeros) "
   ]
  },
  {
   "cell_type": "markdown",
   "metadata": {},
   "source": [
    "En este caso, `range(0, 10, 2)` genera una secuencia de números pares del 0 al 8, con un paso de 2 entre cada número."
   ]
  }
 ],
 "metadata": {
  "kernelspec": {
   "display_name": "Python 3",
   "language": "python",
   "name": "python3"
  },
  "language_info": {
   "codemirror_mode": {
    "name": "ipython",
    "version": 3
   },
   "file_extension": ".py",
   "mimetype": "text/x-python",
   "name": "python",
   "nbconvert_exporter": "python",
   "pygments_lexer": "ipython3",
   "version": "3.12.0"
  }
 },
 "nbformat": 4,
 "nbformat_minor": 2
}
