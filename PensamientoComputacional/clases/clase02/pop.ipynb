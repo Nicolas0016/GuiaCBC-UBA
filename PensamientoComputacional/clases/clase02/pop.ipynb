{
 "cells": [
  {
   "cell_type": "markdown",
   "metadata": {},
   "source": [
    "# Eliminar un elemento de una lista por su índice\n",
    "Imagina que tienes una lista de tareas y quieres eliminar una tarea que ya has completado. En Python, puedes eliminar un elemento de una lista usando el método `pop()`.\n",
    "\n",
    "### ¿Cómo funciona?\n",
    "\n",
    "El método `pop()` elimina un elemento de una lista por su índice. El índice es la posición del elemento en la lista. Los índices comienzan en 0, por lo que el primer elemento tiene el índice 0, el segundo elemento tiene el índice 1, y así sucesivamente."
   ]
  },
  {
   "cell_type": "code",
   "execution_count": 1,
   "metadata": {},
   "outputs": [
    {
     "name": "stdout",
     "output_type": "stream",
     "text": [
      "['Limpiar la casa', 'Lavar la ropa']\n"
     ]
    }
   ],
   "source": [
    "# Lista de tareas\n",
    "lista_tareas = [\"Comprar leche\", \"Limpiar la casa\", \"Lavar la ropa\"]\n",
    "\n",
    "# Índice del elemento a eliminar (en este caso, el primero)\n",
    "indice_a_eliminar = 0\n",
    "\n",
    "# Eliminamos el elemento de la lista\n",
    "lista_tareas.pop(indice_a_eliminar)\n",
    "\n",
    "# Imprimimos la lista actualizada\n",
    "print(lista_tareas)"
   ]
  },
  {
   "cell_type": "markdown",
   "metadata": {},
   "source": [
    "### Explicación:\n",
    "\n",
    "- La variable `lista_tareas` contiene una lista con 3 tareas.\n",
    "- La variable `indice_a_eliminar` almacena el valor 0, que es el índice del primer elemento.\n",
    "- El método `lista_tareas.pop(indice_a_eliminar)` elimina el elemento en la posición `0` de la lista.\n",
    "- La última línea imprime la lista actualizada, que ahora solo tiene 2 elementos.\n",
    "\n",
    "### Beneficios de usar el método pop():\n",
    "\n",
    "- Es una forma rápida y sencilla de eliminar un elemento de una lista.\n",
    "- Es útil para mantener tu código organizado y eficiente.\n",
    "\n",
    "### En resumen:\n",
    "\n",
    "- El método `pop()` elimina un elemento de una lista por su índice.\n",
    "- Es una herramienta poderosa para trabajar con listas en Python.\n",
    "- Es fácil de usar y entender, incluso para personas que no saben mucho de programación.\n",
    "\n",
    "### Consejos:\n",
    "\n",
    "- Puedes usar la función `len()` para obtener el número de elementos en una lista antes de usar el método `pop()`.\n",
    "- Si no estás seguro del índice del elemento que quieres eliminar, puedes usar un bucle para recorrer la lista e imprimir los índices de cada elemento."
   ]
  }
 ],
 "metadata": {
  "kernelspec": {
   "display_name": "Python 3",
   "language": "python",
   "name": "python3"
  },
  "language_info": {
   "codemirror_mode": {
    "name": "ipython",
    "version": 3
   },
   "file_extension": ".py",
   "mimetype": "text/x-python",
   "name": "python",
   "nbconvert_exporter": "python",
   "pygments_lexer": "ipython3",
   "version": "3.12.0"
  }
 },
 "nbformat": 4,
 "nbformat_minor": 2
}
