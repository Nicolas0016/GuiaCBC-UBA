{
 "cells": [
  {
   "cell_type": "markdown",
   "metadata": {},
   "source": [
    "# Bucle while en Python: Guía completa\n",
    "### Introducción:\n",
    "\n",
    "El bucle `while` en Python es una estructura de control que te permite ejecutar un bloque de código de forma repetitiva mientras se cumpla una condición. Es una herramienta muy útil para realizar tareas que se repiten un número indeterminado de veces, como:\n",
    "\n",
    "- Simular eventos aleatorios.\n",
    "- Leer datos de un usuario hasta que introduzca un valor correcto.\n",
    "- Jugar un juego hasta que el jugador pierda o gane.\n",
    "- Procesar una lista de elementos hasta que se haya completado la tarea.\n",
    "#### Sintaxis básica:\n",
    "```python\n",
    "while condicion: \n",
    "```"
   ]
  },
  {
   "cell_type": "code",
   "execution_count": 4,
   "metadata": {},
   "outputs": [
    {
     "name": "stdout",
     "output_type": "stream",
     "text": [
      "5\n"
     ]
    }
   ],
   "source": [
    "numero = 0\n",
    "while numero < 5:\n",
    "    numero = numero + 1\n",
    "print(numero)"
   ]
  },
  {
   "cell_type": "markdown",
   "metadata": {},
   "source": [
    "### Explicación:\n",
    "\n",
    "- `while`: La palabra clave que indica el inicio del bucle.\n",
    "- `condicion`: La expresión booleana que determina si el bucle se ejecuta o no.\n",
    "- `Bloque de código`: El conjunto de instrucciones que se repiten mientras se cumpla la condición.\n",
    "#### Ejemplo"
   ]
  },
  {
   "cell_type": "code",
   "execution_count": 1,
   "metadata": {},
   "outputs": [
    {
     "name": "stdout",
     "output_type": "stream",
     "text": [
      "0\n",
      "1\n",
      "2\n",
      "3\n",
      "4\n"
     ]
    }
   ],
   "source": [
    "numero = 0\n",
    "\n",
    "while numero < 5:\n",
    "  print(numero)\n",
    "  numero += 1"
   ]
  },
  {
   "cell_type": "markdown",
   "metadata": {},
   "source": [
    "### Explicación:\n",
    "\n",
    "- La variable numero se inicializa con el valor 0.\n",
    "- El bucle while se ejecuta mientras numero sea menor que 5.\n",
    "- Dentro del bucle, se imprime el valor de numero.\n",
    "- Después de imprimir el valor, se aumenta numero en 1.\n",
    "- El bucle se repite hasta que numero sea igual o mayor que 5.\n",
    "### Variaciones:\n",
    "\n",
    "- `Bucle infinito`: Un bucle que se ejecuta para siempre. Se puede crear utilizando una condición que siempre sea verdadera, como `while True:`.\n",
    "\n",
    "```python\n",
    "while True:\n",
    "  print(\"¡Hola!\")\n",
    "\n",
    "```\n",
    "\n",
    "- `Bucle con break`: Se puede utilizar la palabra clave `break` para salir del bucle `while` antes de que se cumpla la condición."
   ]
  },
  {
   "cell_type": "code",
   "execution_count": 2,
   "metadata": {},
   "outputs": [
    {
     "name": "stdout",
     "output_type": "stream",
     "text": [
      "0\n",
      "1\n",
      "2\n",
      "3\n",
      "4\n"
     ]
    }
   ],
   "source": [
    "numero = 0\n",
    "\n",
    "while True:\n",
    "  print(numero)\n",
    "  numero += 1\n",
    "\n",
    "  if numero == 5:\n",
    "    break"
   ]
  },
  {
   "cell_type": "markdown",
   "metadata": {},
   "source": [
    "- `Bucle con continue`: Se puede utilizar la palabra clave continue para pasar a la siguiente iteración del bucle sin ejecutar el resto del código."
   ]
  },
  {
   "cell_type": "code",
   "execution_count": 3,
   "metadata": {},
   "outputs": [
    {
     "name": "stdout",
     "output_type": "stream",
     "text": [
      "1\n",
      "3\n",
      "5\n",
      "7\n",
      "9\n"
     ]
    }
   ],
   "source": [
    "numero = 0\n",
    "\n",
    "while numero < 10:\n",
    "  numero += 1\n",
    "\n",
    "  if numero % 2 == 0:\n",
    "    continue\n",
    "\n",
    "  print(numero)"
   ]
  },
  {
   "cell_type": "markdown",
   "metadata": {},
   "source": [
    "### En resumen:\n",
    "\n",
    "El bucle `while` es una herramienta poderosa para ejecutar código de forma repetitiva mientras se cumpla una condición. Es fácil de usar y entender, incluso para personas que no saben mucho de programación."
   ]
  }
 ],
 "metadata": {
  "kernelspec": {
   "display_name": "Python 3",
   "language": "python",
   "name": "python3"
  },
  "language_info": {
   "codemirror_mode": {
    "name": "ipython",
    "version": 3
   },
   "file_extension": ".py",
   "mimetype": "text/x-python",
   "name": "python",
   "nbconvert_exporter": "python",
   "pygments_lexer": "ipython3",
   "version": "3.12.0"
  }
 },
 "nbformat": 4,
 "nbformat_minor": 2
}
