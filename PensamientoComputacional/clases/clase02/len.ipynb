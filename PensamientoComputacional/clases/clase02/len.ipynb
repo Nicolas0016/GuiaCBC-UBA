{
 "cells": [
  {
   "cell_type": "markdown",
   "metadata": {},
   "source": [
    "# ¿Cómo saber cuántos elementos tiene una lista?\n",
    "Imagina que tienes una caja con diferentes objetos, como juguetes, lápices o frutas. Si quieres saber cuántos objetos hay en la caja, puedes contarlos uno por uno. En Python, podemos hacer lo mismo con las listas, que son como cajas que contienen datos.\n",
    "\n",
    "Para saber cuántos elementos tiene una lista, usaremos la función `len()`. Esta función es como una \"cuenta mágica\" que nos dice cuántos elementos hay en la lista sin necesidad de contarlos uno por uno."
   ]
  },
  {
   "cell_type": "code",
   "execution_count": 1,
   "metadata": {},
   "outputs": [
    {
     "name": "stdout",
     "output_type": "stream",
     "text": [
      "Hay 5 frutas en la lista\n"
     ]
    }
   ],
   "source": [
    "lista_de_frutas = [\"manzana\", \"banana\", \"naranja\", \"kiwi\", \"piña\"]\n",
    "\n",
    "# Usamos la función len() para saber cuántos elementos hay en la lista\n",
    "numero_de_frutas = len(lista_de_frutas)\n",
    "\n",
    "# Imprimimos el número de frutas en la consola\n",
    "print(f\"Hay {numero_de_frutas} frutas en la lista\")"
   ]
  },
  {
   "cell_type": "markdown",
   "metadata": {},
   "source": [
    "### Explicación\n",
    "- La variable `lista_de_frutas` contiene una lista con 5 nombres de frutas.\n",
    "- La función `len(lista_de_frutas)` cuenta el número de elementos en la lista y devuelve el valor `5`.\n",
    "- La variable `numero_de_frutas` almacena el valor `5`, que es el número de frutas en la lista.\n",
    "- La última línea imprime un mensaje en la consola que indica cuántas frutas hay en la lista.\n",
    "\n",
    "### Tip:\n",
    "\n",
    "Puedes usar la función `len()` con cualquier tipo de lista, como una lista de números, una lista de palabras o una lista de objetos.\n",
    "\n",
    "## Resumen\n",
    "\n",
    "- La función `len()` nos permite saber cuántos elementos tiene una lista.\n",
    "- Es una función muy útil para trabajar con listas en Python.\n",
    "- Es fácil de usar y entender, incluso para personas que no saben mucho de programación."
   ]
  }
 ],
 "metadata": {
  "kernelspec": {
   "display_name": "Python 3",
   "language": "python",
   "name": "python3"
  },
  "language_info": {
   "codemirror_mode": {
    "name": "ipython",
    "version": 3
   },
   "file_extension": ".py",
   "mimetype": "text/x-python",
   "name": "python",
   "nbconvert_exporter": "python",
   "pygments_lexer": "ipython3",
   "version": "3.12.0"
  }
 },
 "nbformat": 4,
 "nbformat_minor": 2
}
