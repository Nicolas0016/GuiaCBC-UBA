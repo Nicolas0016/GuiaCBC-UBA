{
 "cells": [
  {
   "cell_type": "markdown",
   "metadata": {},
   "source": [
    "# ¿Qué son las funciones en Python?\n",
    "Imagina que necesitas sumar dos números varias veces en tu programa. En lugar de escribir el código para la suma cada vez, puedes crear una función que se encargue de esa tarea.\n",
    "\n",
    "Las funciones en Python son como bloques de código reutilizables que puedes usar para realizar tareas específicas.\n",
    "\n",
    "### Partes de una función:\n",
    "- Nombre: La función tiene un nombre que la identifica, como `sumarNumeros`.\n",
    "- Argumentos: La función puede recibir datos de entrada, también conocidos como \"argumentos\". En este caso, la función recibe dos argumentos: `numero_uno` y `numero_dos`.\n",
    "- Retorno: La función puede devolver un valor, también conocido como \"retorno\". En este caso, la función devuelve la suma de los dos números."
   ]
  },
  {
   "cell_type": "code",
   "execution_count": 3,
   "metadata": {},
   "outputs": [
    {
     "name": "stdout",
     "output_type": "stream",
     "text": [
      "El resultado de la suma es: 14\n"
     ]
    }
   ],
   "source": [
    "def sumarNumeros(numero_uno, numero_dos):\n",
    "  \"\"\"\n",
    "  Esta función suma dos números.\n",
    "\n",
    "  Parámetros:\n",
    "    numero_uno: El primer número a sumar.\n",
    "    numero_dos: El segundo número a sumar.\n",
    "\n",
    "  Retorno:\n",
    "    La suma de los dos números.\n",
    "  \"\"\"\n",
    "  return numero_uno + numero_dos\n",
    "\n",
    "resultado = sumarNumeros(5, 9)\n",
    "\n",
    "print(f\"El resultado de la suma es: {resultado}\")"
   ]
  },
  {
   "cell_type": "markdown",
   "metadata": {},
   "source": [
    "### Explicación:\n",
    "- La función `sumarNumeros` define dos argumentos: `numero_uno` y `numero_dos`.\n",
    "- La función suma los dos números y devuelve el resultado.\n",
    "- La variable `resultado` almacena el valor devuelto por la función.\n",
    "- La última línea imprime el resultado de la suma en la consola.\n",
    "\n",
    "### Beneficios de usar funciones:\n",
    "\n",
    "- Reutilización: Puedes usar la función tantas veces como necesites.\n",
    "- Modularidad: Tu código será más organizado y fácil de entender.\n",
    "- Mantenimiento: Será más fácil corregir errores si tu código está organizado en funciones.\n",
    "\n",
    "## En resumen:\n",
    "- Las funciones son bloques de código reutilizables.\n",
    "- Son útiles para realizar tareas específicas.\n",
    "- Tienen argumentos que reciben datos de entrada y un retorno que devuelve un valor.\n",
    "- Son una herramienta poderosa para mejorar la organización y el mantenimiento de tu código."
   ]
  }
 ],
 "metadata": {
  "kernelspec": {
   "display_name": "Python 3",
   "language": "python",
   "name": "python3"
  },
  "language_info": {
   "codemirror_mode": {
    "name": "ipython",
    "version": 3
   },
   "file_extension": ".py",
   "mimetype": "text/x-python",
   "name": "python",
   "nbconvert_exporter": "python",
   "pygments_lexer": "ipython3",
   "version": "3.12.0"
  }
 },
 "nbformat": 4,
 "nbformat_minor": 2
}
