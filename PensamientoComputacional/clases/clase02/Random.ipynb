{
 "cells": [
  {
   "cell_type": "markdown",
   "metadata": {},
   "source": [
    "# Librería Random en Python: Guía completa\n",
    "\n",
    "## Introducción:\n",
    "\n",
    "La librería random de Python te permite generar números aleatorios y realizar diferentes tareas con ellos. Es una herramienta muy útil para juegos, simulaciones, experimentos y mucho más.\n",
    "\n",
    "### Importar la librería:\n",
    "\n",
    "Antes de usar la librería random, debes importarla en tu código. Puedes hacerlo de dos maneras:\n",
    "\n",
    "1. Importación completa:"
   ]
  },
  {
   "cell_type": "code",
   "execution_count": 20,
   "metadata": {},
   "outputs": [],
   "source": [
    "import random"
   ]
  },
  {
   "cell_type": "markdown",
   "metadata": {},
   "source": [
    "2. Importación específica:"
   ]
  },
  {
   "cell_type": "code",
   "execution_count": 19,
   "metadata": {},
   "outputs": [],
   "source": [
    "from random import random, randint, shuffle"
   ]
  },
  {
   "cell_type": "markdown",
   "metadata": {},
   "source": [
    "### Generar números aleatorios:\n",
    "\n",
    "- `random.random()`: Genera un número aleatorio entre 0 y 1 (sin incluir el 1)."
   ]
  },
  {
   "cell_type": "code",
   "execution_count": 21,
   "metadata": {},
   "outputs": [
    {
     "name": "stdout",
     "output_type": "stream",
     "text": [
      "0.9444510537392216\n"
     ]
    }
   ],
   "source": [
    "numero_aleatorio = random.random()\n",
    "print(numero_aleatorio)"
   ]
  },
  {
   "cell_type": "markdown",
   "metadata": {},
   "source": [
    "- `random.randint(a, b)`: Genera un número aleatorio entre a y b (incluyendo ambos)."
   ]
  },
  {
   "cell_type": "code",
   "execution_count": 23,
   "metadata": {},
   "outputs": [
    {
     "name": "stdout",
     "output_type": "stream",
     "text": [
      "9\n"
     ]
    }
   ],
   "source": [
    "numero_aleatorio = random.randint(1, 10)\n",
    "print(numero_aleatorio)"
   ]
  },
  {
   "cell_type": "markdown",
   "metadata": {},
   "source": [
    "### Mezclar elementos de una lista:\n",
    "\n",
    "- `random.shuffle(lista)`: Mezcla los elementos de una lista de forma aleatoria."
   ]
  },
  {
   "cell_type": "code",
   "execution_count": 24,
   "metadata": {},
   "outputs": [
    {
     "name": "stdout",
     "output_type": "stream",
     "text": [
      "[1, 2, 3, 4, 5]\n",
      "[1, 3, 5, 4, 2]\n"
     ]
    }
   ],
   "source": [
    "lista = [1, 2, 3, 4, 5]\n",
    "print(lista)\n",
    "random.shuffle(lista)\n",
    "print(lista)"
   ]
  },
  {
   "cell_type": "markdown",
   "metadata": {},
   "source": [
    "### En resumen:\n",
    "\n",
    "La librería `random` de Python es una herramienta poderosa para generar números aleatorios y realizar diferentes tareas con ellos. Es fácil de usar y entender, incluso para personas que no saben mucho de programación."
   ]
  }
 ],
 "metadata": {
  "kernelspec": {
   "display_name": "Python 3",
   "language": "python",
   "name": "python3"
  },
  "language_info": {
   "codemirror_mode": {
    "name": "ipython",
    "version": 3
   },
   "file_extension": ".py",
   "mimetype": "text/x-python",
   "name": "python",
   "nbconvert_exporter": "python",
   "pygments_lexer": "ipython3",
   "version": "3.12.0"
  }
 },
 "nbformat": 4,
 "nbformat_minor": 2
}
