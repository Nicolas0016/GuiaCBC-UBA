{
 "cells": [
  {
   "cell_type": "markdown",
   "metadata": {},
   "source": [
    "# Recorrer listas con un ciclo while\n",
    "El siguiente código en Python muestra cómo utilizar un bucle `while` para recorrer una lista e imprimir sus elementos uno por uno.\n"
   ]
  },
  {
   "cell_type": "code",
   "execution_count": 3,
   "metadata": {},
   "outputs": [
    {
     "name": "stdout",
     "output_type": "stream",
     "text": [
      "Primero\n",
      "Segundo\n",
      "Tercero\n",
      "Cuarto\n",
      "Quinto\n",
      "ETC\n"
     ]
    }
   ],
   "source": [
    "indice = 0\n",
    "lista = ['Primero','Segundo','Tercero','Cuarto','Quinto','ETC']\n",
    "\n",
    "while indice < len(lista):\n",
    "    print(lista[indice])\n",
    "    indice = indice + 1"
   ]
  },
  {
   "cell_type": "markdown",
   "metadata": {},
   "source": [
    "### Explicación:\n",
    "- <b>Inicialización del Índice</b>: Se define una variable indice y se inicializa en 0. Esta variable se utilizará para acceder a los elementos de la lista uno por uno.\n",
    "\n",
    "- <b>Definición de la Lista</b>: Se crea una lista llamada lista que contiene varios elementos, como 'Primero', 'Segundo', 'Tercero', 'Cuarto', 'Quinto', etc.\n",
    "\n",
    "- <b>Bucle While</b>: Se inicia un bucle while que se ejecutará mientras el valor de indice sea menor que la longitud de la lista. Esto garantiza que el bucle se detenga cuando se hayan recorrido todos los elementos de la lista.\n",
    "\n",
    "- <b>Impresión del Elemento Actual</b>: En cada iteración del bucle, se imprime el elemento de la lista correspondiente al índice actual.\n",
    "\n",
    "- <b>Actualización del Índice</b>: Después de imprimir el elemento actual, se incrementa el valor de indice en 1, de modo que en la próxima iteración se acceda al siguiente elemento de la lista.\n",
    "\n",
    "- <b>Finalización del Bucle</b>: Una vez que se han recorrido todos los elementos de la lista, el bucle while termina y el programa finaliza.\n",
    "\n",
    "Este código es una forma básica de recorrer una lista utilizando un bucle while. Es útil cuando se necesita controlar manualmente el índice de la lista durante el recorrido."
   ]
  }
 ],
 "metadata": {
  "kernelspec": {
   "display_name": "Python 3",
   "language": "python",
   "name": "python3"
  },
  "language_info": {
   "codemirror_mode": {
    "name": "ipython",
    "version": 3
   },
   "file_extension": ".py",
   "mimetype": "text/x-python",
   "name": "python",
   "nbconvert_exporter": "python",
   "pygments_lexer": "ipython3",
   "version": "3.12.0"
  }
 },
 "nbformat": 4,
 "nbformat_minor": 2
}
