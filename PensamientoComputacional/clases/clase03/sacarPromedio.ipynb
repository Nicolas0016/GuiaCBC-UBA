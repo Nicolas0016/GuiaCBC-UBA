{
 "cells": [
  {
   "cell_type": "markdown",
   "metadata": {},
   "source": [
    "# Sacar Promedio\n",
    "\n",
    "Calcular el promedio es una operación común en análisis de datos y estadísticas. En la clase de Pensamiento Computacional, exploramos cómo calcular el promedio de un conjunto de valores utilizando Python. Esta habilidad es útil en una variedad de contextos, incluido el procesamiento de datos en nuestro programa de álbum de figuritas.\n",
    "\n",
    "## ¿Por qué es importante calcular el promedio?\n",
    "\n",
    "El promedio es una medida estadística fundamental que proporciona una representación central de un conjunto de datos. Permite resumir la información en una sola cifra, lo que facilita la comprensión y el análisis de grandes conjuntos de datos. En el contexto del álbum de figuritas, calcular el promedio puede ayudarnos a entender cuántas figuritas en promedio se necesitan para completar el álbum.\n",
    "\n",
    "## Método para Calcular el Promedio en Python\n",
    "\n",
    "En Python, podemos calcular el promedio de un conjunto de valores sumando todos los valores y dividiendo el resultado por el número total de valores. Este proceso se puede implementar fácilmente utilizando una función personalizada.\n"
   ]
  },
  {
   "cell_type": "code",
   "execution_count": 1,
   "metadata": {},
   "outputs": [
    {
     "name": "stdout",
     "output_type": "stream",
     "text": [
      "El promedio es: 20.0\n"
     ]
    }
   ],
   "source": [
    "def calcular_promedio(valores):\n",
    "    suma = sum(valores)\n",
    "    promedio = suma / len(valores)\n",
    "    return promedio\n",
    "\n",
    "# Ejemplo de Uso\n",
    "valores = [10, 15, 20, 25, 30]\n",
    "promedio = calcular_promedio(valores)\n",
    "print(\"El promedio es:\", promedio)"
   ]
  },
  {
   "cell_type": "markdown",
   "metadata": {},
   "source": [
    "#### En este código:\n",
    "\n",
    "- Definimos una función llamada calcular_promedio que toma una lista de valores como entrada.\n",
    "- Dentro de la función, sumamos todos los valores de la lista utilizando la función sum() y dividimos la suma por la longitud de la lista para obtener el promedio.\n",
    "- El promedio calculado se devuelve como resultado de la función."
   ]
  }
 ],
 "metadata": {
  "kernelspec": {
   "display_name": "Python 3",
   "language": "python",
   "name": "python3"
  },
  "language_info": {
   "codemirror_mode": {
    "name": "ipython",
    "version": 3
   },
   "file_extension": ".py",
   "mimetype": "text/x-python",
   "name": "python",
   "nbconvert_exporter": "python",
   "pygments_lexer": "ipython3",
   "version": "3.12.0"
  }
 },
 "nbformat": 4,
 "nbformat_minor": 2
}
