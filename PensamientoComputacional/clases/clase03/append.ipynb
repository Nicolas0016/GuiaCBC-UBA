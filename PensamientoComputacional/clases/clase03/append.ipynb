{
 "cells": [
  {
   "cell_type": "markdown",
   "metadata": {},
   "source": [
    "# Uso del Método `append()` en Python\n",
    "\n",
    "El método `append()` es una función integrada en Python que se utiliza para agregar un elemento al final de una lista. A continuación se explica cómo utilizar este método con ejemplos:\n",
    "\n",
    "## Sintaxis\n",
    "\n",
    "La sintaxis general para el método `append()` es la siguiente:\n",
    "\n",
    "```python\n",
    "lista.append(elemento)\n",
    "```\n",
    "### Donde:\n",
    "\n",
    "lista es la lista a la que se desea agregar el elemento.\n",
    "elemento es el elemento que se va a agregar al final de la lista.\n",
    "# Ejemplo de Uso\n",
    "## Creamos una lista vacía\n"
   ]
  },
  {
   "cell_type": "code",
   "execution_count": 1,
   "metadata": {},
   "outputs": [],
   "source": [
    "numeros = []"
   ]
  },
  {
   "cell_type": "markdown",
   "metadata": {},
   "source": [
    "### Agregamos elementos a la lista utilizando append()"
   ]
  },
  {
   "cell_type": "code",
   "execution_count": 2,
   "metadata": {},
   "outputs": [
    {
     "name": "stdout",
     "output_type": "stream",
     "text": [
      "[1, 2, 3]\n"
     ]
    }
   ],
   "source": [
    "numeros.append(1)\n",
    "numeros.append(2)\n",
    "numeros.append(3)\n",
    "print(numeros)"
   ]
  },
  {
   "cell_type": "markdown",
   "metadata": {},
   "source": [
    "En este ejemplo, primero creamos una lista vacía llamada `numeros`. Luego, utilizamos el método `append()` para agregar los números 1, 2 y 3 al final de la lista. Finalmente, imprimimos la lista completa para verificar los cambios.\n",
    "\n",
    "# Notas Importantes\n",
    "- El método `append()` modifica la lista original en su lugar y no devuelve nada (o devuelve `None`).\n",
    "- Puedes usar `append()` para agregar cualquier tipo de elemento a una lista, ya sean números, cadenas, listas anidadas, etc.\n",
    "- `append()` siempre agrega el elemento al final de la lista, por lo que el orden de los elementos se conserva."
   ]
  }
 ],
 "metadata": {
  "kernelspec": {
   "display_name": "Python 3",
   "language": "python",
   "name": "python3"
  },
  "language_info": {
   "codemirror_mode": {
    "name": "ipython",
    "version": 3
   },
   "file_extension": ".py",
   "mimetype": "text/x-python",
   "name": "python",
   "nbconvert_exporter": "python",
   "pygments_lexer": "ipython3",
   "version": "3.12.0"
  }
 },
 "nbformat": 4,
 "nbformat_minor": 2
}
