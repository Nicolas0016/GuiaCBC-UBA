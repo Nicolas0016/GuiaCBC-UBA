{
 "cells": [
  {
   "cell_type": "markdown",
   "metadata": {},
   "source": [
    "# Operaciones Matemáticas en Python\n",
    "En este documento, vamos a explicar cómo realizar diferentes operaciones matemáticas utilizando Python.\n",
    "### Resta (-)\n",
    "La resta se realiza utilizando el operador `-`. Por ejemplo:\n"
   ]
  },
  {
   "cell_type": "code",
   "execution_count": 1,
   "metadata": {},
   "outputs": [
    {
     "name": "stdout",
     "output_type": "stream",
     "text": [
      "Resultado de la resta: 5\n"
     ]
    }
   ],
   "source": [
    "resultado_resta = 10 - 5\n",
    "print(\"Resultado de la resta:\", resultado_resta)"
   ]
  },
  {
   "cell_type": "markdown",
   "metadata": {},
   "source": [
    "### Suma (+)\n",
    "La resta se realiza utilizando el operador `+`. Por ejemplo:"
   ]
  },
  {
   "cell_type": "code",
   "execution_count": 2,
   "metadata": {},
   "outputs": [
    {
     "name": "stdout",
     "output_type": "stream",
     "text": [
      "Resultado de la resta: 5\n"
     ]
    }
   ],
   "source": [
    "resultado_suma = 10 - 5\n",
    "print(\"Resultado de la resta:\", resultado_suma)"
   ]
  },
  {
   "cell_type": "markdown",
   "metadata": {},
   "source": [
    "### Multiplicacion\n",
    "La multiplicación se realiza utilizando el operador `*`. Por ejemplo:"
   ]
  },
  {
   "cell_type": "code",
   "execution_count": 3,
   "metadata": {},
   "outputs": [
    {
     "name": "stdout",
     "output_type": "stream",
     "text": [
      "Resultado de la multiplicación: 12\n"
     ]
    }
   ],
   "source": [
    "resultado_multiplicacion = 3 * 4\n",
    "print(\"Resultado de la multiplicación:\", resultado_multiplicacion)"
   ]
  },
  {
   "cell_type": "markdown",
   "metadata": {},
   "source": [
    "### División (/)\n",
    "La división se realiza utilizando el operador `/`. Python devuelve un número decimal incluso si el resultado es un número entero. Por ejemplo:"
   ]
  },
  {
   "cell_type": "code",
   "execution_count": 4,
   "metadata": {},
   "outputs": [
    {
     "name": "stdout",
     "output_type": "stream",
     "text": [
      "Resultado de la división: 3.3333333333333335\n"
     ]
    }
   ],
   "source": [
    "resultado_division = 10 / 3\n",
    "print(\"Resultado de la división:\", resultado_division)"
   ]
  },
  {
   "cell_type": "markdown",
   "metadata": {},
   "source": [
    "### Exponenciación (**)\n",
    "La exponenciación se realiza utilizando el operador **. Este operador eleva el primer número a la potencia del segundo número. Por ejemplo:"
   ]
  },
  {
   "cell_type": "code",
   "execution_count": 5,
   "metadata": {},
   "outputs": [
    {
     "name": "stdout",
     "output_type": "stream",
     "text": [
      "Resultado de la exponenciación: 8\n"
     ]
    }
   ],
   "source": [
    "resultado_exponenciacion = 2 ** 3\n",
    "print(\"Resultado de la exponenciación:\", resultado_exponenciacion)\n"
   ]
  },
  {
   "cell_type": "markdown",
   "metadata": {},
   "source": [
    "### Raíz Cuadrada (√)\n",
    "Para calcular la raíz cuadrada de un número en Python, podemos usar el operador de exponenciación junto con 0.5 como exponente. Por ejemplo:"
   ]
  },
  {
   "cell_type": "code",
   "execution_count": 6,
   "metadata": {},
   "outputs": [
    {
     "name": "stdout",
     "output_type": "stream",
     "text": [
      "Raíz cuadrada de 16 es: 4.0\n"
     ]
    }
   ],
   "source": [
    "numero = 16\n",
    "raiz_cuadrada = numero ** 0.5\n",
    "print(\"Raíz cuadrada de\", numero, \"es:\", raiz_cuadrada)"
   ]
  }
 ],
 "metadata": {
  "kernelspec": {
   "display_name": "Python 3",
   "language": "python",
   "name": "python3"
  },
  "language_info": {
   "codemirror_mode": {
    "name": "ipython",
    "version": 3
   },
   "file_extension": ".py",
   "mimetype": "text/x-python",
   "name": "python",
   "nbconvert_exporter": "python",
   "pygments_lexer": "ipython3",
   "version": "3.12.0"
  }
 },
 "nbformat": 4,
 "nbformat_minor": 2
}
