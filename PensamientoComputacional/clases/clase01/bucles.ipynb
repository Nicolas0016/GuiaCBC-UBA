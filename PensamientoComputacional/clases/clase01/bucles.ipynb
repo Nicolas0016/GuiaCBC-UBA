{
 "cells": [
  {
   "cell_type": "markdown",
   "metadata": {},
   "source": [
    "# Bucles en Python\n",
    "Los bucles en Python nos permiten ejecutar un bloque de código repetidamente mientras se cumpla una condición específica. Aquí explicaremos cómo funcionan los bucles `for` y `while`.\n",
    "\n",
    "### Bucle for\n",
    "El bucle `for` se utiliza para iterar sobre una secuencia (como una lista, tupla, o rango) y ejecutar un bloque de código una vez para cada elemento en la secuencia."
   ]
  },
  {
   "cell_type": "code",
   "execution_count": null,
   "metadata": {},
   "outputs": [],
   "source": [
    "frutas = [\"manzana\", \"banana\", \"cereza\"]\n",
    "for fruta in frutas:\n",
    "    print(fruta)"
   ]
  },
  {
   "cell_type": "markdown",
   "metadata": {},
   "source": [
    "### Bucle while\n",
    "El bucle `while` se utiliza para ejecutar un bloque de código repetidamente mientras una condición sea verdadera. El bucle continuará ejecutándose hasta que la condición se vuelva falsa."
   ]
  },
  {
   "cell_type": "code",
   "execution_count": null,
   "metadata": {},
   "outputs": [],
   "source": [
    "# Ejemplo de bucle while\n",
    "contador = 0\n",
    "while contador < 5:\n",
    "    print(\"El contador es:\", contador)\n",
    "    contador += 1"
   ]
  },
  {
   "cell_type": "markdown",
   "metadata": {},
   "source": [
    "En este ejemplo, el bucle while imprime el valor del contador en cada iteración mientras el contador sea menor que 5. El contador se incrementa en cada iteración para evitar un bucle infinito."
   ]
  }
 ],
 "metadata": {
  "language_info": {
   "name": "python"
  }
 },
 "nbformat": 4,
 "nbformat_minor": 2
}
