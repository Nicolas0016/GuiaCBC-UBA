{
 "cells": [
  {
   "cell_type": "markdown",
   "metadata": {},
   "source": [
    "# Bucles en Python\n",
    "Los bucles en Python nos permiten ejecutar un bloque de código repetidamente mientras se cumpla una condición específica. Aquí explicaremos cómo funcionan los bucles `for` y `while`.\n",
    "\n",
    "### Bucle for\n",
    "El bucle `for` se utiliza para iterar sobre una secuencia (como una lista, tupla, o rango) y ejecutar un bloque de código una vez para cada elemento en la secuencia."
   ]
  },
  {
   "cell_type": "code",
   "execution_count": 1,
   "metadata": {},
   "outputs": [
    {
     "name": "stdout",
     "output_type": "stream",
     "text": [
      "manzana\n",
      "banana\n",
      "cereza\n"
     ]
    }
   ],
   "source": [
    "frutas = [\"manzana\", \"banana\", \"cereza\"]\n",
    "for fruta in frutas:\n",
    "    print(fruta)"
   ]
  },
  {
   "cell_type": "markdown",
   "metadata": {},
   "source": [
    "### Bucle while\n",
    "El bucle `while` se utiliza para ejecutar un bloque de código repetidamente mientras una condición sea verdadera. El bucle continuará ejecutándose hasta que la condición se vuelva falsa."
   ]
  },
  {
   "cell_type": "code",
   "execution_count": 2,
   "metadata": {},
   "outputs": [
    {
     "name": "stdout",
     "output_type": "stream",
     "text": [
      "El contador es: 0\n",
      "El contador es: 1\n",
      "El contador es: 2\n",
      "El contador es: 3\n",
      "El contador es: 4\n"
     ]
    }
   ],
   "source": [
    "# Ejemplo de bucle while\n",
    "contador = 0\n",
    "while contador < 5:\n",
    "    print(\"El contador es:\", contador)\n",
    "    contador += 1"
   ]
  },
  {
   "cell_type": "markdown",
   "metadata": {},
   "source": [
    "En este ejemplo, el bucle while imprime el valor del contador en cada iteración mientras el contador sea menor que 5. El contador se incrementa en cada iteración para evitar un bucle infinito."
   ]
  }
 ],
 "metadata": {
  "kernelspec": {
   "display_name": "Python 3",
   "language": "python",
   "name": "python3"
  },
  "language_info": {
   "codemirror_mode": {
    "name": "ipython",
    "version": 3
   },
   "file_extension": ".py",
   "mimetype": "text/x-python",
   "name": "python",
   "nbconvert_exporter": "python",
   "pygments_lexer": "ipython3",
   "version": "3.12.0"
  }
 },
 "nbformat": 4,
 "nbformat_minor": 2
}
