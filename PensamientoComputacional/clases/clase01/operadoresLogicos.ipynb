{
 "cells": [
  {
   "cell_type": "markdown",
   "metadata": {},
   "source": [
    "# Introducción a los Operadores Lógicos en Python\n",
    "\n",
    "Los operadores lógicos son herramientas fundamentales en programación que permiten combinar expresiones booleanas para realizar comparaciones y tomar decisiones en nuestros programas. En Python, los operadores lógicos principales son 'and', 'or' y 'not'.\n",
    "\n",
    "## Operador 'and'\n",
    "\n",
    "El operador 'and' devuelve True si **ambos** operandos son True, de lo contrario, devuelve False.\n"
   ]
  },
  {
   "cell_type": "code",
   "execution_count": 1,
   "metadata": {},
   "outputs": [
    {
     "name": "stdout",
     "output_type": "stream",
     "text": [
      "True and True = True\n",
      "True and False = False\n"
     ]
    }
   ],
   "source": [
    "# Ejemplo de 'and'\n",
    "print(\"True and True =\", True and True)\n",
    "print(\"True and False =\", True and False)"
   ]
  },
  {
   "cell_type": "markdown",
   "metadata": {},
   "source": [
    "### Operador 'or'\n",
    "El operador 'or' devuelve True si **al menos uno** de los operandos es True, de lo contrario, devuelve False."
   ]
  },
  {
   "cell_type": "code",
   "execution_count": null,
   "metadata": {},
   "outputs": [],
   "source": [
    "# Ejemplo de 'or'\n",
    "print(\"True or False =\", True or False)\n",
    "print(\"False or False =\", False or False)"
   ]
  },
  {
   "cell_type": "markdown",
   "metadata": {},
   "source": [
    "### Operador 'not'\n",
    "El operador 'not' invierte el valor del operando. Si el operando es True, 'not' devuelve False; si el operando es False, 'not' devuelve True."
   ]
  },
  {
   "cell_type": "code",
   "execution_count": null,
   "metadata": {},
   "outputs": [],
   "source": [
    "# Ejemplo de 'not'\n",
    "print(\"not True =\", not True)\n",
    "print(\"not False =\", not False)"
   ]
  }
 ],
 "metadata": {
  "kernelspec": {
   "display_name": "Python 3",
   "language": "python",
   "name": "python3"
  },
  "language_info": {
   "codemirror_mode": {
    "name": "ipython",
    "version": 3
   },
   "file_extension": ".py",
   "mimetype": "text/x-python",
   "name": "python",
   "nbconvert_exporter": "python",
   "pygments_lexer": "ipython3",
   "version": "3.12.0"
  }
 },
 "nbformat": 4,
 "nbformat_minor": 2
}
