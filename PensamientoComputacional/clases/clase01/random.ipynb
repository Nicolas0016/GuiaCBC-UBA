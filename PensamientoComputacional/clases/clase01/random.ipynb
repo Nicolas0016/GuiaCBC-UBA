{
 "cells": [
  {
   "cell_type": "markdown",
   "metadata": {},
   "source": [
    "# Explicación de `from random import randint`\n",
    "\n",
    "En Python, el módulo `random` proporciona funciones para generar números pseudoaleatorios. Uno de los métodos disponibles en este módulo es `randint(a, b)`, que devuelve un número entero aleatorio N, tal que `a <= N <= b`.\n",
    "\n",
    "La sintaxis `from random import randint` se utiliza para importar específicamente la función `randint` del módulo `random`. Esto significa que puedes utilizar la función `randint` directamente en tu código sin tener que escribir `random.randint()` cada vez que quieras llamarla.\n",
    "## Ejemplo de Uso:"
   ]
  },
  {
   "cell_type": "code",
   "execution_count": 4,
   "metadata": {},
   "outputs": [
    {
     "name": "stdout",
     "output_type": "stream",
     "text": [
      "Número aleatorio: 41\n"
     ]
    }
   ],
   "source": [
    "from random import randint\n",
    "\n",
    "numero_aleatorio = randint(1, 100)\n",
    "print(\"Número aleatorio:\", numero_aleatorio)"
   ]
  }
 ],
 "metadata": {
  "kernelspec": {
   "display_name": "Python 3",
   "language": "python",
   "name": "python3"
  },
  "language_info": {
   "codemirror_mode": {
    "name": "ipython",
    "version": 3
   },
   "file_extension": ".py",
   "mimetype": "text/x-python",
   "name": "python",
   "nbconvert_exporter": "python",
   "pygments_lexer": "ipython3",
   "version": "3.12.0"
  }
 },
 "nbformat": 4,
 "nbformat_minor": 2
}
