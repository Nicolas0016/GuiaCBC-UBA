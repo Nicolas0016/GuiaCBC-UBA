{
 "cells": [
  {
   "cell_type": "markdown",
   "metadata": {},
   "source": [
    "# Indexado de Datos en Python\n",
    "\n",
    "En Python, puedes acceder a elementos individuales dentro de una lista, tupla o diccionario utilizando el indexado de datos. Aquí te mostramos cómo hacerlo:\n",
    "\n",
    "### Indexado en Listas\n",
    "\n",
    "Las listas en Python son colecciones ordenadas y mutables de elementos. Puedes acceder a elementos individuales utilizando índices enteros. El primer elemento tiene un índice de 0, el segundo tiene un índice de 1, y así sucesivamente.\n"
   ]
  },
  {
   "cell_type": "code",
   "execution_count": 1,
   "metadata": {},
   "outputs": [
    {
     "name": "stdout",
     "output_type": "stream",
     "text": [
      "Primer elemento de la lista: manzana\n",
      "Último elemento de la lista: dátil\n"
     ]
    }
   ],
   "source": [
    "# Definición de una lista\n",
    "mi_lista = [\"manzana\", \"banana\", \"cereza\", \"dátil\"]\n",
    "\n",
    "# Acceder al primer elemento\n",
    "primer_elemento = mi_lista[0]\n",
    "print(\"Primer elemento de la lista:\", primer_elemento)  # Salida: manzana\n",
    "\n",
    "# Acceder al último elemento\n",
    "ultimo_elemento = mi_lista[-1]\n",
    "print(\"Último elemento de la lista:\", ultimo_elemento)  # Salida: dátil"
   ]
  },
  {
   "cell_type": "markdown",
   "metadata": {},
   "source": [
    "### Indexado en Tuplas\n",
    "Las tuplas en Python son colecciones ordenadas e inmutables de elementos. El proceso de indexado es similar al de las listas."
   ]
  },
  {
   "cell_type": "code",
   "execution_count": 1,
   "metadata": {},
   "outputs": [
    {
     "name": "stdout",
     "output_type": "stream",
     "text": [
      "Tercer elemento de la tupla: azul\n"
     ]
    }
   ],
   "source": [
    "# Definición de una tupla\n",
    "mi_tupla = (\"rojo\", \"verde\", \"azul\", \"amarillo\")\n",
    "\n",
    "# Acceder al tercer elemento\n",
    "tercer_elemento = mi_tupla[2]\n",
    "print(\"Tercer elemento de la tupla:\", tercer_elemento)  # Salida: azul\n"
   ]
  },
  {
   "cell_type": "markdown",
   "metadata": {},
   "source": [
    "### Indexado En Diccionarios\n",
    "Los diccionarios en Python son colecciones no ordenadas de pares clave-valor. Puedes acceder a los valores utilizando las claves asociadas."
   ]
  },
  {
   "cell_type": "code",
   "execution_count": 2,
   "metadata": {},
   "outputs": [
    {
     "name": "stdout",
     "output_type": "stream",
     "text": [
      "Nombre: Nicolás\n",
      "Edad: 19\n"
     ]
    }
   ],
   "source": [
    "# Definición de un diccionario\n",
    "mi_diccionario = {\n",
    "    \"nombre\": \"Nicolás\",\n",
    "    \"edad\": 19,\n",
    "    \"ciudad\": \"Buenos Aires\"\n",
    "}\n",
    "\n",
    "# Acceder al valor asociado con la clave \"nombre\"\n",
    "nombre = mi_diccionario[\"nombre\"]\n",
    "print(\"Nombre:\", nombre)\n",
    "\n",
    "# Acceder al valor asociado con la clave \"edad\"\n",
    "edad = mi_diccionario[\"edad\"]\n",
    "print(\"Edad:\", edad)\n"
   ]
  }
 ],
 "metadata": {
  "kernelspec": {
   "display_name": "Python 3",
   "language": "python",
   "name": "python3"
  },
  "language_info": {
   "codemirror_mode": {
    "name": "ipython",
    "version": 3
   },
   "file_extension": ".py",
   "mimetype": "text/x-python",
   "name": "python",
   "nbconvert_exporter": "python",
   "pygments_lexer": "ipython3",
   "version": "3.12.0"
  }
 },
 "nbformat": 4,
 "nbformat_minor": 2
}
