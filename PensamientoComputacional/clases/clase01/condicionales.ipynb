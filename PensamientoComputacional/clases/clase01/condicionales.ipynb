{
 "cells": [
  {
   "cell_type": "markdown",
   "metadata": {},
   "source": [
    "# Condicionales en Python\n",
    "En Python, los condicionales nos permiten ejecutar cierto bloque de código dependiendo de si se cumple una condición específica. Aquí explicaremos cómo funcionan los condicionales `if`, `else`, `elif` y `finally`.\n",
    "\n",
    "### Declaración if\n",
    "La declaración `if` se utiliza para ejecutar un bloque de código si una condición es verdadera. Si la condición es falsa, el bloque de código dentro del `if` no se ejecutará.\n"
   ]
  },
  {
   "cell_type": "code",
   "execution_count": null,
   "metadata": {},
   "outputs": [],
   "source": [
    "x = 10\n",
    "if x > 5:\n",
    "    print(\"x es mayor que 5\")"
   ]
  },
  {
   "cell_type": "markdown",
   "metadata": {},
   "source": [
    "### Declaración else\n",
    "La declaración `else` se utiliza para ejecutar un bloque de código si la condición en el `if` no se cumple. Proporciona una alternativa al bloque de código que se ejecutaría si la condición en el `if` fuera verdadera."
   ]
  },
  {
   "cell_type": "code",
   "execution_count": null,
   "metadata": {},
   "outputs": [],
   "source": [
    "# Ejemplo de declaración if-else\n",
    "y = 3\n",
    "if y > 5:\n",
    "    print(\"y es mayor que 5\")\n",
    "else:\n",
    "    print(\"y no es mayor que 5\")\n"
   ]
  },
  {
   "cell_type": "markdown",
   "metadata": {},
   "source": [
    "### Condicionales Anidados\n",
    "Además de los condicionales simples `if` y `else`, Python también admite condicionales anidados utilizando la declaración `elif` (abreviatura de \"else if\"). Estos condicionales anidados permiten manejar múltiples condiciones de manera más estructurada."
   ]
  },
  {
   "cell_type": "code",
   "execution_count": null,
   "metadata": {},
   "outputs": [],
   "source": [
    "# Ejemplo de condicional anidado (if, elif, else)\n",
    "puntuacion = 75\n",
    "if puntuacion >= 90:\n",
    "    print(\"Grado A\")\n",
    "elif puntuacion >= 80:\n",
    "    print(\"Grado B\")\n",
    "elif puntuacion >= 70:\n",
    "    print(\"Grado C\")\n",
    "elif puntuacion >= 60:\n",
    "    print(\"Grado D\")\n",
    "else:\n",
    "    print(\"Grado F\")\n"
   ]
  }
 ],
 "metadata": {
  "language_info": {
   "name": "python"
  }
 },
 "nbformat": 4,
 "nbformat_minor": 2
}
