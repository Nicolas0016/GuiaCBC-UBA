{
 "cells": [
  {
   "cell_type": "markdown",
   "metadata": {},
   "source": [
    "# Tipos de variables en Python\n",
    "\n",
    "Las variables en Python se adaptan según el contexto en el que se quieran utilizar.\n",
    "\n",
    "Se declaran imperativamente, lo que significa que no es necesario declararlas previamente.\n",
    "\n",
    "También tienen la peculiaridad de tener tipado dinámico, lo que permite que las variables puedan tomar diferentes tipos sin necesidad de declararlas explícitamente.\n"
   ]
  },
  {
   "cell_type": "code",
   "execution_count": 13,
   "metadata": {},
   "outputs": [],
   "source": [
    "# Definición de variables con diferentes tipos de datos\n",
    "\n",
    "# El número entero puede tener valor en todos los números enteros {int ∈ Z }\n",
    "entero = 1\n",
    "\n",
    "# El número decimal puede tener valor en todos los números reales {decimal ∈ R}\n",
    "decimal = 1.2\n",
    "\n",
    "# La variable condicional puede contener valores booleanos (True o False)\n",
    "condicional = True or False\n",
    "\n",
    "# Una lista es una colección ordenada y mutable de elementos\n",
    "lista = [1, 1.2, True]\n",
    "\n",
    "# Una tupla es una colección ordenada e inmutable de elementos\n",
    "tupla = (1, 2.2, False)\n",
    "\n",
    "# Un diccionario es una colección no ordenada de pares clave-valor\n",
    "diccionario = {\n",
    "    'Nombre': 'tu nombre',\n",
    "    'Edad': 19,\n",
    "    'Estudiante': True\n",
    "}"
   ]
  },
  {
   "cell_type": "markdown",
   "metadata": {},
   "source": [
    "## Imprimir los tipos de datos de las variables definidas\n",
    "La función print() se utiliza para mostrar información en la consola."
   ]
  },
  {
   "cell_type": "code",
   "execution_count": 15,
   "metadata": {},
   "outputs": [
    {
     "name": "stdout",
     "output_type": "stream",
     "text": [
      "Entero es de tipo: <class 'int'>\n",
      "Decimal es de tipo: <class 'float'>\n",
      "Condicional es de tipo: <class 'bool'>\n",
      "Lista es de tipo: <class 'list'>\n",
      "Tupla es de tipo: <class 'tuple'>\n",
      "Diccionario es de tipo: <class 'dict'>\n"
     ]
    }
   ],
   "source": [
    "\n",
    "print(\"Entero es de tipo:\", type(entero))\n",
    "print(\"Decimal es de tipo:\", type(decimal)) \n",
    "print(\"Condicional es de tipo:\", type(condicional))\n",
    "print(\"Lista es de tipo:\", type(lista))\n",
    "print(\"Tupla es de tipo:\", type(tupla))\n",
    "print(\"Diccionario es de tipo:\", type(diccionario))"
   ]
  }
 ],
 "metadata": {
  "kernelspec": {
   "display_name": "Python 3",
   "language": "python",
   "name": "python3"
  },
  "language_info": {
   "codemirror_mode": {
    "name": "ipython",
    "version": 3
   },
   "file_extension": ".py",
   "mimetype": "text/x-python",
   "name": "python",
   "nbconvert_exporter": "python",
   "pygments_lexer": "ipython3",
   "version": "3.12.0"
  }
 },
 "nbformat": 4,
 "nbformat_minor": 2
}
